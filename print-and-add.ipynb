{
 "cells": [
  {
   "cell_type": "code",
   "execution_count": 1,
   "id": "b4816e8e",
   "metadata": {},
   "outputs": [
    {
     "name": "stdout",
     "output_type": "stream",
     "text": [
      "hi\n",
      "4\n"
     ]
    }
   ],
   "source": [
    "print(\"hi\")\n",
    "\n",
    "def add2(n):\n",
    "    return n + 2\n",
    "\n",
    "\n",
    "print(add2(3))"
   ]
  },
  {
   "cell_type": "code",
   "execution_count": null,
   "id": "fa37d781",
   "metadata": {},
   "outputs": [],
   "source": []
  }
 ],
 "metadata": {
  "kernelspec": {
   "display_name": "Python 3",
   "language": "python",
   "name": "python3"
  },
  "language_info": {
   "codemirror_mode": {
    "name": "ipython",
    "version": 3
   },
   "file_extension": ".py",
   "mimetype": "text/x-python",
   "name": "python",
   "nbconvert_exporter": "python",
   "pygments_lexer": "ipython3",
   "version": "3.8.10"
  }
 },
 "nbformat": 4,
 "nbformat_minor": 5
}
